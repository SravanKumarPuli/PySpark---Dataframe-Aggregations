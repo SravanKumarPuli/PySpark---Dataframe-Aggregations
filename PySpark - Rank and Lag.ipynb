{
 "cells": [
  {
   "cell_type": "code",
   "execution_count": 1,
   "id": "eadbdb61",
   "metadata": {},
   "outputs": [],
   "source": [
    "from pyspark.sql import SparkSession\n",
    "import getpass\n",
    "username = getpass.getuser()\n",
    "spark = SparkSession. \\\n",
    "builder. \\\n",
    "config('spark.ui.port','0'). \\\n",
    "config(\"spark.sql.warehouse.dir\", f\"/user/{username}/warehouse\"). \\\n",
    "enableHiveSupport(). \\\n",
    "master('yarn'). \\\n",
    "getOrCreate()"
   ]
  },
  {
   "cell_type": "code",
   "execution_count": 2,
   "id": "593f3d1d",
   "metadata": {},
   "outputs": [],
   "source": [
    "orders_df = spark.read \\\n",
    ".format(\"csv\") \\\n",
    ".option(\"inferSchema\", \"true\") \\\n",
    ".option(\"header\", \"true\") \\\n",
    ".load(\"/public/trendytech/datasets/windowdatamodified.csv\")"
   ]
  },
  {
   "cell_type": "code",
   "execution_count": 3,
   "id": "dff7fb0b",
   "metadata": {},
   "outputs": [
    {
     "name": "stdout",
     "output_type": "stream",
     "text": [
      "+--------------+-------+-----------+-------------+------------+\n",
      "|       country|weeknum|numinvoices|totalquantity|invoicevalue|\n",
      "+--------------+-------+-----------+-------------+------------+\n",
      "|         Spain|     49|          1|           67|      174.72|\n",
      "|       Germany|     48|         11|         1795|      1600.0|\n",
      "|     Lithuania|     48|          3|          622|     1598.06|\n",
      "|       Germany|     49|         12|         1852|      1800.0|\n",
      "|       Bahrain|     51|          1|           54|      205.74|\n",
      "|       Iceland|     49|          1|          319|      711.79|\n",
      "|         India|     51|          5|           95|       300.0|\n",
      "|     Australia|     50|          2|          133|      387.95|\n",
      "|         Italy|     49|          1|           -2|       -17.0|\n",
      "|         India|     49|          5|         1280|      3284.1|\n",
      "|         Spain|     50|          2|          400|     1049.01|\n",
      "|United Kingdom|     51|        200|        28782|    75103.46|\n",
      "|        Norway|     49|          1|         1730|     1867.98|\n",
      "|United Kingdom|     48|        478|        68865|   166116.72|\n",
      "|        France|     51|          5|          847|       500.0|\n",
      "|      Portugal|     49|          4|          726|     1844.67|\n",
      "|         Spain|     48|          1|          400|       620.0|\n",
      "|         India|     48|          7|         2822|       300.0|\n",
      "|       Germany|     50|         15|         1973|      1800.0|\n",
      "|         Italy|     51|          1|          131|       383.7|\n",
      "+--------------+-------+-----------+-------------+------------+\n",
      "only showing top 20 rows\n",
      "\n"
     ]
    }
   ],
   "source": [
    "orders_df.show()"
   ]
  },
  {
   "cell_type": "code",
   "execution_count": 8,
   "id": "de3236c3",
   "metadata": {},
   "outputs": [
    {
     "name": "stdout",
     "output_type": "stream",
     "text": [
      "+---------------+-------+-----------+-------------+------------+\n",
      "|        country|weeknum|numinvoices|totalquantity|invoicevalue|\n",
      "+---------------+-------+-----------+-------------+------------+\n",
      "|      Australia|     49|          1|          214|       258.9|\n",
      "|      Australia|     48|          1|          107|      358.25|\n",
      "|      Australia|     50|          2|          133|      387.95|\n",
      "|        Austria|     50|          2|            3|      257.04|\n",
      "|        Bahrain|     51|          1|           54|      205.74|\n",
      "|        Belgium|     50|          2|          285|      625.16|\n",
      "|        Belgium|     51|          2|          942|       800.0|\n",
      "|        Belgium|     48|          1|          528|       800.0|\n",
      "|Channel Islands|     49|          1|           80|      363.53|\n",
      "|         Cyprus|     50|          1|          917|     1590.82|\n",
      "|        Denmark|     49|          1|          454|      1281.5|\n",
      "|        Finland|     50|          1|         1254|       892.8|\n",
      "|         France|     48|          4|         1299|       500.0|\n",
      "|         France|     51|          5|          847|       500.0|\n",
      "|         France|     49|          9|         2303|       500.0|\n",
      "|         France|     50|          6|          529|      537.32|\n",
      "|        Germany|     51|          5|         1103|      1600.0|\n",
      "|        Germany|     48|         11|         1795|      1600.0|\n",
      "|        Germany|     49|         12|         1852|      1800.0|\n",
      "|        Germany|     50|         15|         1973|      1800.0|\n",
      "|        Iceland|     49|          1|          319|      711.79|\n",
      "|          India|     51|          5|           95|       300.0|\n",
      "|          India|     48|          7|         2822|       300.0|\n",
      "|          India|     50|          5|         1184|     2321.78|\n",
      "|          India|     49|          5|         1280|      3284.1|\n",
      "|         Israel|     50|          1|          -56|     -227.44|\n",
      "|          Italy|     49|          1|           -2|       -17.0|\n",
      "|          Italy|     51|          1|          131|       383.7|\n",
      "|          Italy|     48|          1|          164|       427.8|\n",
      "|          Japan|     48|          1|          196|      320.08|\n",
      "|          Japan|     49|          2|         3897|     7384.99|\n",
      "|      Lithuania|     49|          1|           30|        63.0|\n",
      "|      Lithuania|     48|          3|          622|     1598.06|\n",
      "|    Netherlands|     48|          1|           97|       192.6|\n",
      "|    Netherlands|     51|          2|         6714|     8591.88|\n",
      "|         Norway|     49|          1|         1730|     1867.98|\n",
      "|         Norway|     48|          1|         1852|     1919.14|\n",
      "|         Poland|     48|          1|          140|      248.16|\n",
      "|       Portugal|     48|          1|           65|       131.8|\n",
      "|       Portugal|     50|          3|          154|      403.65|\n",
      "|       Portugal|     49|          4|          726|     1844.67|\n",
      "|          Spain|     49|          1|           67|      174.72|\n",
      "|          Spain|     48|          1|          400|       620.0|\n",
      "|          Spain|     50|          2|          400|     1049.01|\n",
      "|         Sweden|     50|          3|         3714|      2646.3|\n",
      "|    Switzerland|     48|          1|          110|       303.4|\n",
      "|    Switzerland|     51|          1|          604|     1001.52|\n",
      "| United Kingdom|     51|        200|        28782|    75103.46|\n",
      "| United Kingdom|     48|        478|        68865|   166116.72|\n",
      "| United Kingdom|     50|        530|        94956|   191501.99|\n",
      "+---------------+-------+-----------+-------------+------------+\n",
      "only showing top 50 rows\n",
      "\n"
     ]
    }
   ],
   "source": [
    "orders_df.orderBy(\"country\", \"invoicevalue\").show(50)"
   ]
  },
  {
   "cell_type": "code",
   "execution_count": 6,
   "id": "cc7eacf6",
   "metadata": {},
   "outputs": [],
   "source": [
    "from pyspark.sql import *"
   ]
  },
  {
   "cell_type": "code",
   "execution_count": 10,
   "id": "9d89b11e",
   "metadata": {},
   "outputs": [],
   "source": [
    "my_window = Window.partitionBy(\"country\") \\\n",
    ".orderBy(\"weeknum\") \\\n",
    ".rowsBetween(Window.unboundedPreceding, Window.currentRow) "
   ]
  },
  {
   "cell_type": "code",
   "execution_count": 7,
   "id": "0a55ef74",
   "metadata": {},
   "outputs": [],
   "source": [
    "from pyspark.sql.functions import *"
   ]
  },
  {
   "cell_type": "code",
   "execution_count": 13,
   "id": "266d68db",
   "metadata": {},
   "outputs": [],
   "source": [
    "results_df = orders_df.withColumn(\"running_total\", sum(\"invoicevalue\").over(my_window))"
   ]
  },
  {
   "cell_type": "code",
   "execution_count": 14,
   "id": "d0e41200",
   "metadata": {},
   "outputs": [
    {
     "name": "stdout",
     "output_type": "stream",
     "text": [
      "+-------+-------+-----------+-------------+------------+------------------+\n",
      "|country|weeknum|numinvoices|totalquantity|invoicevalue|     running_total|\n",
      "+-------+-------+-----------+-------------+------------+------------------+\n",
      "| Sweden|     50|          3|         3714|      2646.3|            2646.3|\n",
      "|Germany|     48|         11|         1795|      1600.0|            1600.0|\n",
      "|Germany|     49|         12|         1852|      1800.0|            3400.0|\n",
      "|Germany|     50|         15|         1973|      1800.0|            5200.0|\n",
      "|Germany|     51|          5|         1103|      1600.0|            6800.0|\n",
      "| France|     48|          4|         1299|       500.0|             500.0|\n",
      "| France|     49|          9|         2303|       500.0|            1000.0|\n",
      "| France|     50|          6|          529|      537.32|1537.3200000000002|\n",
      "| France|     51|          5|          847|       500.0|2037.3200000000002|\n",
      "|Belgium|     48|          1|          528|       800.0|             800.0|\n",
      "|Belgium|     50|          2|          285|      625.16|1425.1599999999999|\n",
      "|Belgium|     51|          2|          942|       800.0|           2225.16|\n",
      "|Finland|     50|          1|         1254|       892.8|             892.8|\n",
      "|  India|     48|          7|         2822|       300.0|             300.0|\n",
      "|  India|     49|          5|         1280|      3284.1|            3584.1|\n",
      "|  India|     50|          5|         1184|     2321.78|           5905.88|\n",
      "|  India|     51|          5|           95|       300.0|           6205.88|\n",
      "|  Italy|     48|          1|          164|       427.8|             427.8|\n",
      "|  Italy|     49|          1|           -2|       -17.0|             410.8|\n",
      "|  Italy|     51|          1|          131|       383.7|             794.5|\n",
      "+-------+-------+-----------+-------------+------------+------------------+\n",
      "only showing top 20 rows\n",
      "\n"
     ]
    }
   ],
   "source": [
    "results_df.show()"
   ]
  },
  {
   "cell_type": "code",
   "execution_count": 15,
   "id": "f9bf84f6",
   "metadata": {},
   "outputs": [],
   "source": [
    "my_window = Window.partitionBy(\"country\") \\\n",
    ".orderBy(desc(\"invoicevalue\"))"
   ]
  },
  {
   "cell_type": "code",
   "execution_count": 16,
   "id": "12c0cf5a",
   "metadata": {},
   "outputs": [
    {
     "name": "stdout",
     "output_type": "stream",
     "text": [
      "+-------+-------+-----------+-------------+------------+----+\n",
      "|country|weeknum|numinvoices|totalquantity|invoicevalue|rank|\n",
      "+-------+-------+-----------+-------------+------------+----+\n",
      "| Sweden|     50|          3|         3714|      2646.3|   1|\n",
      "|Germany|     49|         12|         1852|      1800.0|   1|\n",
      "|Germany|     50|         15|         1973|      1800.0|   1|\n",
      "|Germany|     48|         11|         1795|      1600.0|   3|\n",
      "|Germany|     51|          5|         1103|      1600.0|   3|\n",
      "| France|     50|          6|          529|      537.32|   1|\n",
      "| France|     51|          5|          847|       500.0|   2|\n",
      "| France|     49|          9|         2303|       500.0|   2|\n",
      "| France|     48|          4|         1299|       500.0|   2|\n",
      "|Belgium|     48|          1|          528|       800.0|   1|\n",
      "|Belgium|     51|          2|          942|       800.0|   1|\n",
      "|Belgium|     50|          2|          285|      625.16|   3|\n",
      "|Finland|     50|          1|         1254|       892.8|   1|\n",
      "|  India|     49|          5|         1280|      3284.1|   1|\n",
      "|  India|     50|          5|         1184|     2321.78|   2|\n",
      "|  India|     51|          5|           95|       300.0|   3|\n",
      "|  India|     48|          7|         2822|       300.0|   3|\n",
      "|  Italy|     48|          1|          164|       427.8|   1|\n",
      "|  Italy|     51|          1|          131|       383.7|   2|\n",
      "|  Italy|     49|          1|           -2|       -17.0|   3|\n",
      "+-------+-------+-----------+-------------+------------+----+\n",
      "only showing top 20 rows\n",
      "\n"
     ]
    }
   ],
   "source": [
    "orders_df.withColumn(\"rank\", rank().over(my_window)).show()"
   ]
  },
  {
   "cell_type": "code",
   "execution_count": 17,
   "id": "39cbd501",
   "metadata": {},
   "outputs": [
    {
     "name": "stdout",
     "output_type": "stream",
     "text": [
      "+-------+-------+-----------+-------------+------------+----+\n",
      "|country|weeknum|numinvoices|totalquantity|invoicevalue|rank|\n",
      "+-------+-------+-----------+-------------+------------+----+\n",
      "| Sweden|     50|          3|         3714|      2646.3|   1|\n",
      "|Germany|     49|         12|         1852|      1800.0|   1|\n",
      "|Germany|     50|         15|         1973|      1800.0|   1|\n",
      "|Germany|     48|         11|         1795|      1600.0|   2|\n",
      "|Germany|     51|          5|         1103|      1600.0|   2|\n",
      "| France|     50|          6|          529|      537.32|   1|\n",
      "| France|     51|          5|          847|       500.0|   2|\n",
      "| France|     49|          9|         2303|       500.0|   2|\n",
      "| France|     48|          4|         1299|       500.0|   2|\n",
      "|Belgium|     48|          1|          528|       800.0|   1|\n",
      "|Belgium|     51|          2|          942|       800.0|   1|\n",
      "|Belgium|     50|          2|          285|      625.16|   2|\n",
      "|Finland|     50|          1|         1254|       892.8|   1|\n",
      "|  India|     49|          5|         1280|      3284.1|   1|\n",
      "|  India|     50|          5|         1184|     2321.78|   2|\n",
      "|  India|     51|          5|           95|       300.0|   3|\n",
      "|  India|     48|          7|         2822|       300.0|   3|\n",
      "|  Italy|     48|          1|          164|       427.8|   1|\n",
      "|  Italy|     51|          1|          131|       383.7|   2|\n",
      "|  Italy|     49|          1|           -2|       -17.0|   3|\n",
      "+-------+-------+-----------+-------------+------------+----+\n",
      "only showing top 20 rows\n",
      "\n"
     ]
    }
   ],
   "source": [
    "orders_df.withColumn(\"rank\", dense_rank().over(my_window)).show()"
   ]
  },
  {
   "cell_type": "code",
   "execution_count": 23,
   "id": "e9fd4760",
   "metadata": {},
   "outputs": [],
   "source": [
    "result_df = orders_df.withColumn(\"rank\", row_number().over(my_window))"
   ]
  },
  {
   "cell_type": "code",
   "execution_count": 24,
   "id": "d77682a9",
   "metadata": {},
   "outputs": [
    {
     "name": "stdout",
     "output_type": "stream",
     "text": [
      "+---------------+-------+-----------+-------------+------------+\n",
      "|        country|weeknum|numinvoices|totalquantity|invoicevalue|\n",
      "+---------------+-------+-----------+-------------+------------+\n",
      "|         Sweden|     50|          3|         3714|      2646.3|\n",
      "|        Germany|     49|         12|         1852|      1800.0|\n",
      "|         France|     50|          6|          529|      537.32|\n",
      "|        Belgium|     48|          1|          528|       800.0|\n",
      "|        Finland|     50|          1|         1254|       892.8|\n",
      "|          India|     49|          5|         1280|      3284.1|\n",
      "|          Italy|     48|          1|          164|       427.8|\n",
      "|      Lithuania|     48|          3|          622|     1598.06|\n",
      "|         Norway|     48|          1|         1852|     1919.14|\n",
      "|          Spain|     50|          2|          400|     1049.01|\n",
      "|        Denmark|     49|          1|          454|      1281.5|\n",
      "|        Iceland|     49|          1|          319|      711.79|\n",
      "|         Israel|     50|          1|          -56|     -227.44|\n",
      "|Channel Islands|     49|          1|           80|      363.53|\n",
      "|         Cyprus|     50|          1|          917|     1590.82|\n",
      "|    Switzerland|     51|          1|          604|     1001.52|\n",
      "|          Japan|     49|          2|         3897|     7384.99|\n",
      "|         Poland|     48|          1|          140|      248.16|\n",
      "|       Portugal|     49|          4|          726|     1844.67|\n",
      "|      Australia|     50|          2|          133|      387.95|\n",
      "+---------------+-------+-----------+-------------+------------+\n",
      "only showing top 20 rows\n",
      "\n"
     ]
    }
   ],
   "source": [
    "result_df.select(\"*\").where(\"rank == 1\").drop(\"rank\").show()"
   ]
  },
  {
   "cell_type": "code",
   "execution_count": 8,
   "id": "8f3db751",
   "metadata": {},
   "outputs": [],
   "source": [
    "my_window = Window.partitionBy(\"country\") \\\n",
    ".orderBy(\"weeknum\") "
   ]
  },
  {
   "cell_type": "code",
   "execution_count": 9,
   "id": "9778d3b8",
   "metadata": {},
   "outputs": [
    {
     "name": "stdout",
     "output_type": "stream",
     "text": [
      "+-------+-------+-----------+-------------+------------+-------------+\n",
      "|country|weeknum|numinvoices|totalquantity|invoicevalue|previous_week|\n",
      "+-------+-------+-----------+-------------+------------+-------------+\n",
      "| Sweden|     50|          3|         3714|      2646.3|         null|\n",
      "|Germany|     48|         11|         1795|      1600.0|         null|\n",
      "|Germany|     49|         12|         1852|      1800.0|       1600.0|\n",
      "|Germany|     50|         15|         1973|      1800.0|       1800.0|\n",
      "|Germany|     51|          5|         1103|      1600.0|       1800.0|\n",
      "| France|     48|          4|         1299|       500.0|         null|\n",
      "| France|     49|          9|         2303|       500.0|        500.0|\n",
      "| France|     50|          6|          529|      537.32|        500.0|\n",
      "| France|     51|          5|          847|       500.0|       537.32|\n",
      "|Belgium|     48|          1|          528|       800.0|         null|\n",
      "|Belgium|     50|          2|          285|      625.16|        800.0|\n",
      "|Belgium|     51|          2|          942|       800.0|       625.16|\n",
      "|Finland|     50|          1|         1254|       892.8|         null|\n",
      "|  India|     48|          7|         2822|       300.0|         null|\n",
      "|  India|     49|          5|         1280|      3284.1|        300.0|\n",
      "|  India|     50|          5|         1184|     2321.78|       3284.1|\n",
      "|  India|     51|          5|           95|       300.0|      2321.78|\n",
      "|  Italy|     48|          1|          164|       427.8|         null|\n",
      "|  Italy|     49|          1|           -2|       -17.0|        427.8|\n",
      "|  Italy|     51|          1|          131|       383.7|        -17.0|\n",
      "+-------+-------+-----------+-------------+------------+-------------+\n",
      "only showing top 20 rows\n",
      "\n"
     ]
    }
   ],
   "source": [
    "orders_df.withColumn(\"previous_week\", lag(\"invoicevalue\").over(my_window)).show()"
   ]
  },
  {
   "cell_type": "code",
   "execution_count": 10,
   "id": "a3566aea",
   "metadata": {},
   "outputs": [
    {
     "name": "stdout",
     "output_type": "stream",
     "text": [
      "+-------+-------+-----------+-------------+------------+-------------+\n",
      "|country|weeknum|numinvoices|totalquantity|invoicevalue|previous_week|\n",
      "+-------+-------+-----------+-------------+------------+-------------+\n",
      "| Sweden|     50|          3|         3714|      2646.3|         null|\n",
      "|Germany|     48|         11|         1795|      1600.0|       1800.0|\n",
      "|Germany|     49|         12|         1852|      1800.0|       1800.0|\n",
      "|Germany|     50|         15|         1973|      1800.0|       1600.0|\n",
      "|Germany|     51|          5|         1103|      1600.0|         null|\n",
      "| France|     48|          4|         1299|       500.0|        500.0|\n",
      "| France|     49|          9|         2303|       500.0|       537.32|\n",
      "| France|     50|          6|          529|      537.32|        500.0|\n",
      "| France|     51|          5|          847|       500.0|         null|\n",
      "|Belgium|     48|          1|          528|       800.0|       625.16|\n",
      "|Belgium|     50|          2|          285|      625.16|        800.0|\n",
      "|Belgium|     51|          2|          942|       800.0|         null|\n",
      "|Finland|     50|          1|         1254|       892.8|         null|\n",
      "|  India|     48|          7|         2822|       300.0|       3284.1|\n",
      "|  India|     49|          5|         1280|      3284.1|      2321.78|\n",
      "|  India|     50|          5|         1184|     2321.78|        300.0|\n",
      "|  India|     51|          5|           95|       300.0|         null|\n",
      "|  Italy|     48|          1|          164|       427.8|        -17.0|\n",
      "|  Italy|     49|          1|           -2|       -17.0|        383.7|\n",
      "|  Italy|     51|          1|          131|       383.7|         null|\n",
      "+-------+-------+-----------+-------------+------------+-------------+\n",
      "only showing top 20 rows\n",
      "\n"
     ]
    }
   ],
   "source": [
    "orders_df.withColumn(\"previous_week\", lead(\"invoicevalue\").over(my_window)).show()"
   ]
  },
  {
   "cell_type": "code",
   "execution_count": 11,
   "id": "d3d77710",
   "metadata": {},
   "outputs": [],
   "source": [
    "my_window = Window.partitionBy(\"country\")"
   ]
  },
  {
   "cell_type": "code",
   "execution_count": 12,
   "id": "97e2bfa6",
   "metadata": {},
   "outputs": [
    {
     "data": {
      "text/html": [
       "<table border='1'>\n",
       "<tr><th>country</th><th>weeknum</th><th>numinvoices</th><th>totalquantity</th><th>invoicevalue</th><th>total_invoice_value</th></tr>\n",
       "<tr><td>Sweden</td><td>50</td><td>3</td><td>3714</td><td>2646.3</td><td>2646.3</td></tr>\n",
       "<tr><td>Germany</td><td>48</td><td>11</td><td>1795</td><td>1600.0</td><td>6800.0</td></tr>\n",
       "<tr><td>Germany</td><td>49</td><td>12</td><td>1852</td><td>1800.0</td><td>6800.0</td></tr>\n",
       "<tr><td>Germany</td><td>50</td><td>15</td><td>1973</td><td>1800.0</td><td>6800.0</td></tr>\n",
       "<tr><td>Germany</td><td>51</td><td>5</td><td>1103</td><td>1600.0</td><td>6800.0</td></tr>\n",
       "<tr><td>France</td><td>51</td><td>5</td><td>847</td><td>500.0</td><td>2037.3200000000002</td></tr>\n",
       "<tr><td>France</td><td>49</td><td>9</td><td>2303</td><td>500.0</td><td>2037.3200000000002</td></tr>\n",
       "<tr><td>France</td><td>48</td><td>4</td><td>1299</td><td>500.0</td><td>2037.3200000000002</td></tr>\n",
       "<tr><td>France</td><td>50</td><td>6</td><td>529</td><td>537.32</td><td>2037.3200000000002</td></tr>\n",
       "<tr><td>Belgium</td><td>48</td><td>1</td><td>528</td><td>800.0</td><td>2225.16</td></tr>\n",
       "<tr><td>Belgium</td><td>50</td><td>2</td><td>285</td><td>625.16</td><td>2225.16</td></tr>\n",
       "<tr><td>Belgium</td><td>51</td><td>2</td><td>942</td><td>800.0</td><td>2225.16</td></tr>\n",
       "<tr><td>Finland</td><td>50</td><td>1</td><td>1254</td><td>892.8</td><td>892.8</td></tr>\n",
       "<tr><td>India</td><td>51</td><td>5</td><td>95</td><td>300.0</td><td>6205.88</td></tr>\n",
       "<tr><td>India</td><td>49</td><td>5</td><td>1280</td><td>3284.1</td><td>6205.88</td></tr>\n",
       "<tr><td>India</td><td>48</td><td>7</td><td>2822</td><td>300.0</td><td>6205.88</td></tr>\n",
       "<tr><td>India</td><td>50</td><td>5</td><td>1184</td><td>2321.78</td><td>6205.88</td></tr>\n",
       "<tr><td>Italy</td><td>49</td><td>1</td><td>-2</td><td>-17.0</td><td>794.5</td></tr>\n",
       "<tr><td>Italy</td><td>51</td><td>1</td><td>131</td><td>383.7</td><td>794.5</td></tr>\n",
       "<tr><td>Italy</td><td>48</td><td>1</td><td>164</td><td>427.8</td><td>794.5</td></tr>\n",
       "</table>\n",
       "only showing top 20 rows\n"
      ],
      "text/plain": [
       "+-------+-------+-----------+-------------+------------+-------------------+\n",
       "|country|weeknum|numinvoices|totalquantity|invoicevalue|total_invoice_value|\n",
       "+-------+-------+-----------+-------------+------------+-------------------+\n",
       "| Sweden|     50|          3|         3714|      2646.3|             2646.3|\n",
       "|Germany|     48|         11|         1795|      1600.0|             6800.0|\n",
       "|Germany|     49|         12|         1852|      1800.0|             6800.0|\n",
       "|Germany|     50|         15|         1973|      1800.0|             6800.0|\n",
       "|Germany|     51|          5|         1103|      1600.0|             6800.0|\n",
       "| France|     51|          5|          847|       500.0| 2037.3200000000002|\n",
       "| France|     49|          9|         2303|       500.0| 2037.3200000000002|\n",
       "| France|     48|          4|         1299|       500.0| 2037.3200000000002|\n",
       "| France|     50|          6|          529|      537.32| 2037.3200000000002|\n",
       "|Belgium|     48|          1|          528|       800.0|            2225.16|\n",
       "|Belgium|     50|          2|          285|      625.16|            2225.16|\n",
       "|Belgium|     51|          2|          942|       800.0|            2225.16|\n",
       "|Finland|     50|          1|         1254|       892.8|              892.8|\n",
       "|  India|     51|          5|           95|       300.0|            6205.88|\n",
       "|  India|     49|          5|         1280|      3284.1|            6205.88|\n",
       "|  India|     48|          7|         2822|       300.0|            6205.88|\n",
       "|  India|     50|          5|         1184|     2321.78|            6205.88|\n",
       "|  Italy|     49|          1|           -2|       -17.0|              794.5|\n",
       "|  Italy|     51|          1|          131|       383.7|              794.5|\n",
       "|  Italy|     48|          1|          164|       427.8|              794.5|\n",
       "+-------+-------+-----------+-------------+------------+-------------------+\n",
       "only showing top 20 rows"
      ]
     },
     "execution_count": 12,
     "metadata": {},
     "output_type": "execute_result"
    }
   ],
   "source": [
    "orders_df.withColumn(\"total_invoice_value\", sum(\"invoicevalue\").over(my_window))"
   ]
  },
  {
   "cell_type": "code",
   "execution_count": null,
   "id": "10d964e1",
   "metadata": {},
   "outputs": [],
   "source": []
  }
 ],
 "metadata": {
  "kernelspec": {
   "display_name": "Pyspark 2",
   "language": "python",
   "name": "pyspark2"
  },
  "language_info": {
   "codemirror_mode": {
    "name": "ipython",
    "version": 3
   },
   "file_extension": ".py",
   "mimetype": "text/x-python",
   "name": "python",
   "nbconvert_exporter": "python",
   "pygments_lexer": "ipython3",
   "version": "3.6.12"
  }
 },
 "nbformat": 4,
 "nbformat_minor": 5
}
